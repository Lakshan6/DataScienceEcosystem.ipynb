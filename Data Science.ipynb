{
 "cells": [
  {
   "cell_type": "markdown",
   "id": "e64453b3",
   "metadata": {},
   "source": [
    "<H1>Data Science Tools and Ecosystem</H1>"
   ]
  },
  {
   "cell_type": "markdown",
   "id": "0c029b5b",
   "metadata": {},
   "source": [
    "In this notebook, Data Science Tools and Ecosystem are summarized."
   ]
  },
  {
   "cell_type": "markdown",
   "id": "815920fa",
   "metadata": {},
   "source": [
    "<H2><B>Objectives:</B></H2>\n",
    "\n",
    "This notebook covers the following topics - \n",
    "\n",
    "<ul>\n",
    "    <li>Some of the popular languages that Data Scientists use</li>\n",
    "    <li>Some of the commonly used libraries used by Data Scientists</li>\n",
    "    <li>Data science tools</li>\n",
    "    <li>Examples of evaluating arithmetic expressions</li>\n",
    "    <li>simple arithmetic expression to mutiply then add integers</li>\n",
    "    <li>Convert minutes to hours</li>\n",
    "</ul>\n",
    "\n"
   ]
  },
  {
   "cell_type": "markdown",
   "id": "e0799513",
   "metadata": {},
   "source": [
    "Some of the popular languages that Data Scientists use are: \n",
    "    <ol>\n",
    "      <li>Python</li>\n",
    "      <li>R</li>\n",
    "      <li>Java</li>\n",
    "      <li>Scala</li>\n",
    "      <li>Julia</li>\n",
    "    </ol>"
   ]
  },
  {
   "cell_type": "markdown",
   "id": "2f62255d",
   "metadata": {},
   "source": [
    "Some of the commonly used libraries used by Data Scientists include:\n",
    "\n",
    "<ol>\n",
    "  <li>TensorFlow</li>\n",
    "  <li>NumPy</li>\n",
    "  <li>SciPy</li>\n",
    "  <li>Pandas</li>\n",
    "  <li>Matplotlib</li>\n",
    "  <li>Keras</li>\n",
    "</ol>"
   ]
  },
  {
   "cell_type": "markdown",
   "id": "d3f3bb66",
   "metadata": {},
   "source": [
    "Data science tools:\n",
    "\n",
    "    \n",
    "  <table>\n",
    "  <tr>\n",
    "    <th>Data Science Tools</th>\n",
    "    <td>RStudio</td>\n",
    "    <td>Apache Spark</td>\n",
    "    <td>TensorFlow</td>\n",
    "  </tr>\n",
    "  </table>\n",
    " "
   ]
  },
  {
   "cell_type": "markdown",
   "id": "5d5ca2ab",
   "metadata": {},
   "source": [
    "<h3>Below are a few examples of evaluating arithmetic expressions in Python : </h3>\n",
    "\n",
    "Addition\t+\tAdds one operand to the other<br>\n",
    "Subtraction\t-\tSubtracts the second operand from the first<br>\n",
    "Multiplication\t*\tMultiplies one operand by the other<br>\n",
    "Division\t/\tDivides the first operand by the second<br>\n",
    "Modulo\t%\tDivides the first INTEGER operand by the second, and returns the remainder\n",
    "\n",
    "    "
   ]
  },
  {
   "cell_type": "markdown",
   "id": "bf66238e",
   "metadata": {},
   "source": [
    ".........................................................................................\n",
    "\n"
   ]
  },
  {
   "cell_type": "markdown",
   "id": "a18e5168",
   "metadata": {},
   "source": [
    "This a simple arithmetic expression to mutiply then add integers"
   ]
  },
  {
   "cell_type": "code",
   "execution_count": 3,
   "id": "9fff5cda",
   "metadata": {},
   "outputs": [
    {
     "data": {
      "text/plain": [
       "17"
      ]
     },
     "execution_count": 3,
     "metadata": {},
     "output_type": "execute_result"
    }
   ],
   "source": [
    "(3*4)+5"
   ]
  },
  {
   "cell_type": "markdown",
   "id": "463f6db7",
   "metadata": {},
   "source": [
    "Convert minutes to hours"
   ]
  },
  {
   "cell_type": "code",
   "execution_count": 6,
   "id": "20800a2b",
   "metadata": {},
   "outputs": [
    {
     "name": "stdout",
     "output_type": "stream",
     "text": [
      "3.3333333333333335\n"
     ]
    }
   ],
   "source": [
    "#This will convert 200 minutes to hours by diving by 60 \n",
    "mins = 200\n",
    "min_to_h = mins/60\n",
    "print(min_to_h)"
   ]
  },
  {
   "cell_type": "markdown",
   "id": "bae02ee1",
   "metadata": {},
   "source": [
    "<h2>Author</h2>\n",
    "\n",
    "Lakshan"
   ]
  },
  {
   "cell_type": "code",
   "execution_count": null,
   "id": "03bc7bec",
   "metadata": {},
   "outputs": [],
   "source": []
  }
 ],
 "metadata": {
  "kernelspec": {
   "display_name": "Python 3 (ipykernel)",
   "language": "python",
   "name": "python3"
  },
  "language_info": {
   "codemirror_mode": {
    "name": "ipython",
    "version": 3
   },
   "file_extension": ".py",
   "mimetype": "text/x-python",
   "name": "python",
   "nbconvert_exporter": "python",
   "pygments_lexer": "ipython3",
   "version": "3.9.7"
  }
 },
 "nbformat": 4,
 "nbformat_minor": 5
}
